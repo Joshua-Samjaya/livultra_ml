{
 "cells": [
  {
   "cell_type": "markdown",
   "id": "fe62aa5b",
   "metadata": {},
   "source": [
    "## Import Dependencies"
   ]
  },
  {
   "cell_type": "code",
   "execution_count": 1,
   "id": "278dcabd",
   "metadata": {},
   "outputs": [],
   "source": [
    "import numpy as np\n",
    "import pandas as pd\n",
    "from sklearn import svm, datasets\n",
    "from sklearn.metrics import classification_report, plot_confusion_matrix, confusion_matrix, accuracy_score, f1_score\n",
    "from sklearn.model_selection import train_test_split\n",
    "import sklearn.model_selection as model_selection\n",
    "import matplotlib.pyplot as plt\n",
    "from matplotlib import colors\n",
    "from matplotlib.lines import Line2D\n",
    "import seaborn as sns\n",
    "from collections import Counter\n",
    "from scipy import stats\n",
    "from imblearn.over_sampling import RandomOverSampler\n",
    "from imblearn.under_sampling import RandomUnderSampler"
   ]
  },
  {
   "cell_type": "code",
   "execution_count": 2,
   "id": "42d958bd",
   "metadata": {},
   "outputs": [],
   "source": [
    "import warnings\n",
    "warnings.filterwarnings('always') "
   ]
  },
  {
   "cell_type": "markdown",
   "id": "583d1a77",
   "metadata": {},
   "source": [
    "## Preprocess Data"
   ]
  },
  {
   "cell_type": "markdown",
   "id": "51b68dbf",
   "metadata": {},
   "source": [
    "#### Import dataset from cleaned file\n"
   ]
  },
  {
   "cell_type": "code",
   "execution_count": 3,
   "id": "5f6bb4c1",
   "metadata": {},
   "outputs": [],
   "source": [
    "## replace input_fname with your own dataset\n",
    "input_fname = \"finalClean.csv\"\n",
    "df = pd.read_csv(input_fname)\n",
    "df = df[[\"platelet\",\"lsm\",\"risk\"]]"
   ]
  },
  {
   "cell_type": "markdown",
   "id": "48991469",
   "metadata": {},
   "source": [
    "#### Remove outlier based on z-score and resample the data"
   ]
  },
  {
   "cell_type": "code",
   "execution_count": 4,
   "id": "d2a99686",
   "metadata": {},
   "outputs": [],
   "source": [
    "def preprocess(df,zscore,resample_tech,random_state):\n",
    "    if zscore>0:\n",
    "        df = df[(np.abs(stats.zscore(df)) < zscore).all(axis=1)]\n",
    "    X = df[[\"lsm\",\"platelet\"]].to_numpy()\n",
    "    Y = df['risk'].to_numpy()\n",
    "    \n",
    "    if resample_tech == \"over\":\n",
    "        ros = RandomOverSampler(random_state=random_state)\n",
    "        X_res, Y_res = ros.fit_resample(X, Y)\n",
    "    elif resample_tech == \"under\":\n",
    "        rus = RandomUnderSampler(random_state=random_state)\n",
    "        X_res, Y_res = rus.fit_resample(X, Y)\n",
    "    else:\n",
    "        X_res, Y_res = X, Y\n",
    "    return X_res, Y_res"
   ]
  },
  {
   "cell_type": "markdown",
   "id": "6e758ff5",
   "metadata": {},
   "source": [
    "## Train Model"
   ]
  },
  {
   "cell_type": "markdown",
   "id": "dea35f4a",
   "metadata": {},
   "source": [
    "#### Train the model using given parameters"
   ]
  },
  {
   "cell_type": "code",
   "execution_count": 5,
   "id": "655ca7b8",
   "metadata": {},
   "outputs": [],
   "source": [
    "def train(C,xdata,ydata,xtest,ytest,title, verbose, plot_boundary):\n",
    "    model = svm.SVC(kernel='linear', C=C,probability=True).fit(xdata, ydata)\n",
    "    ypred = model.predict(xtest)\n",
    "    cm = confusion_matrix(ytest,ypred)\n",
    "    \n",
    "    # display confusion matrix\n",
    "    if verbose:\n",
    "        cm_title = \"Confusion Matrix for \" + title\n",
    "        f = sns.heatmap(cm, annot=True, fmt='d')\n",
    "        f.set_xlabel('Predicted labels')\n",
    "        f.set_ylabel('True labels');\n",
    "        f.xaxis.set_ticklabels(['nc', 'c'])\n",
    "        f.yaxis.set_ticklabels(['nc', 'c']);\n",
    "        plt.title(cm_title)\n",
    "        plt.savefig(\"SVM_CM_Best.png\",dpi=300,facecolor='w')\n",
    "        plt.show()\n",
    "        print(classification_report(ytest, ypred,digits=3))\n",
    "    \n",
    "    # Obtain individual metrics\n",
    "    FP = cm[0][1]\n",
    "    FN = cm[1][0]\n",
    "    TP = cm[1][1]\n",
    "    TN = cm[0][0]\n",
    "    FPR = FP/(FP+TN)\n",
    "    FNR = FN/(TP+FN)\n",
    "    acc = accuracy_score(ytest, ypred)\n",
    "    \n",
    "    # display boundary in scatter graph \n",
    "    if plot_boundary:\n",
    "        # step size in the mesh\n",
    "        h = .5 \n",
    "\n",
    "        # create a mesh to plot in\n",
    "        x_min, x_max = xtest[:, 0].min() - 1, xtest[:, 0].max() + 1\n",
    "        y_min, y_max = xtest[:, 1].min() - 1, xtest[:, 1].max() + 1\n",
    "        xx, yy = np.meshgrid(np.arange(x_min, x_max, h),\n",
    "                             np.arange(y_min, y_max, h))\n",
    "\n",
    "\n",
    "        Z = model.predict(np.c_[xx.ravel(), yy.ravel()])\n",
    "\n",
    "        # Put the result into a color plot\n",
    "        Z = Z.reshape(xx.shape)\n",
    "        cmap1 = colors.ListedColormap(['#099e2a','#ff0200'])\n",
    "        plt.contourf(xx, yy, Z, cmap = cmap1, alpha=0.6)\n",
    "\n",
    "\n",
    "        cdict = {0: '#099e2a', 1: '#ff0200'}\n",
    "        for l in np.unique(ytest):\n",
    "            ix = np.where(ytest == l)\n",
    "            scatter = plt.scatter(xtest[:,0][ix], xtest[:,1][ix], c = cdict[l], label = l, s = 10)\n",
    "\n",
    "\n",
    "        legend_elements = [Line2D([0], [0], marker='o', color='#e6e6eb', label='non-cirhotic', markerfacecolor='g', markersize=5),\n",
    "                           Line2D([0], [0], marker='o', color='#e6e6eb', label='cirrhotic', markerfacecolor='r', markersize=5) ]\n",
    "        plt.legend(handles=legend_elements, loc='best',facecolor ='w')\n",
    "\n",
    "        plt.xlim(xx.min(), xx.max())\n",
    "        plt.ylim(yy.min(), yy.max())\n",
    "        plt.xlabel('lsm / kPa')\n",
    "        plt.ylabel('platelet / thousands per microliters of blood')\n",
    "        plt.xticks()\n",
    "        plt.yticks()\n",
    "        plt.title(title)\n",
    "        plt.savefig(\"SVM_Boundary_Best.png\",dpi=3000,facecolor='w')\n",
    "        plt.show()\n",
    "\n",
    "    return model, acc, FPR, FNR"
   ]
  },
  {
   "cell_type": "markdown",
   "id": "d4a59a6a",
   "metadata": {},
   "source": [
    "## The Whole Process"
   ]
  },
  {
   "cell_type": "markdown",
   "id": "f66314e7",
   "metadata": {},
   "source": [
    "#### Preprocess, Split Data and Train model"
   ]
  },
  {
   "cell_type": "code",
   "execution_count": 6,
   "id": "6e65afae",
   "metadata": {},
   "outputs": [],
   "source": [
    "def svc_train(df,zscore,resample_tech, preprocess_random, train_size,test_size, train_random, C, verbose, plot_boundary):\n",
    "    x_data, y_data = preprocess(df=df,zscore=zscore,resample_tech=resample_tech,random_state =preprocess_random)\n",
    "    X_train, X_test, y_train, y_test = model_selection.train_test_split(x_data, y_data, train_size=train_size, \n",
    "                                                                    test_size=test_size, random_state=train_random)\n",
    "    return train(C,X_train,y_train,X_test,y_test,'SVC with linear kernel', verbose, plot_boundary)"
   ]
  },
  {
   "cell_type": "markdown",
   "id": "e93434e6",
   "metadata": {},
   "source": [
    "#### Loops to Determine Best Model"
   ]
  },
  {
   "cell_type": "code",
   "execution_count": 7,
   "id": "0503c39a",
   "metadata": {},
   "outputs": [
    {
     "name": "stdout",
     "output_type": "stream",
     "text": [
      "Chosen model performance:\n",
      "Acc: 0.95, FPR: 0.05, FNR: 0.06\n",
      "Chosen iteration: 81\n",
      "Equation parameters: [[ 0.50716783 -0.00404924]] [-3.56141361]\n"
     ]
    }
   ],
   "source": [
    "max_acc = 0\n",
    "best_model = None\n",
    "best_stats = [0,0]\n",
    "best_rand = 0\n",
    "\n",
    "#Based on testing, best range is between 80-85\n",
    "for i in range(80,85):\n",
    "    svc, acc, FPR, FNR = svc_train(df=df,\n",
    "                                 zscore = 2.5,\n",
    "                                 resample_tech = \"over\",\n",
    "                                 preprocess_random = i,\n",
    "                                 train_size=0.75,\n",
    "                                 test_size=0.25,\n",
    "                                 train_random = i,\n",
    "                                 C = 1,\n",
    "                                 verbose = False,\n",
    "                                 plot_boundary = False)\n",
    "    if acc>max_acc:\n",
    "        max_acc = acc\n",
    "        best_model = svc\n",
    "        best_stats = [FPR,FNR]\n",
    "        best_rand = i\n",
    "print(\"Chosen model performance:\")\n",
    "print(\"Acc: %.2f, FPR: %.2f, FNR: %.2f\" % (max_acc, best_stats[0],best_stats[1]))\n",
    "print(\"Chosen iteration:\", best_rand)\n",
    "print(\"Equation parameters:\", best_model.coef_,best_model.intercept_)"
   ]
  },
  {
   "cell_type": "markdown",
   "id": "58ebac4b",
   "metadata": {},
   "source": [
    "#### Visualise the Result of Final Model"
   ]
  },
  {
   "cell_type": "code",
   "execution_count": 8,
   "id": "1641b51d",
   "metadata": {
    "scrolled": true
   },
   "outputs": [
    {
     "data": {
      "image/png": "[encoded data removed]",
      "text/plain": [
       "<Figure size 432x288 with 2 Axes>"
      ]
     },
     "metadata": {
      "needs_background": "light"
     },
     "output_type": "display_data"
    },
    {
     "name": "stdout",
     "output_type": "stream",
     "text": [
      "              precision    recall  f1-score   support\n",
      "\n",
      "           0      0.953     0.953     0.953        86\n",
      "           1      0.942     0.942     0.942        69\n",
      "\n",
      "    accuracy                          0.948       155\n",
      "   macro avg      0.948     0.948     0.948       155\n",
      "weighted avg      0.948     0.948     0.948       155\n",
      "\n"
     ]
    },
    {
     "data": {
      "image/png": "[encoded data removed]",
      "text/plain": [
       "<Figure size 432x288 with 1 Axes>"
      ]
     },
     "metadata": {
      "needs_background": "light"
     },
     "output_type": "display_data"
    }
   ],
   "source": [
    "svc, acc, FPR, FNR = svc_train(df=df,\n",
    "                                 zscore = 2.5,\n",
    "                                 resample_tech = \"over\",\n",
    "                                 preprocess_random = best_rand,\n",
    "                                 train_size=0.75,\n",
    "                                 test_size=0.25,\n",
    "                                 train_random = best_rand,\n",
    "                                 C = 1,\n",
    "                                 verbose = True,\n",
    "                                 plot_boundary = True)"
   ]
  },
  {
   "cell_type": "markdown",
   "id": "ca8cdb4c",
   "metadata": {},
   "source": [
    "## Tools to Obtain Prediction Result"
   ]
  },
  {
   "cell_type": "markdown",
   "id": "88eee47f",
   "metadata": {},
   "source": [
    "#### Determine Class using Decision Boundary (0 is non-cirrhotic, 1 is cirrhotic)"
   ]
  },
  {
   "cell_type": "code",
   "execution_count": 9,
   "id": "08bdb7c2",
   "metadata": {},
   "outputs": [],
   "source": [
    "def check(model,x,y):\n",
    "    pos = model.coef_[0][0]*x + model.coef_[0][1]*y + model.intercept_\n",
    "    if pos<0:\n",
    "        return 0\n",
    "    else:\n",
    "        return 1"
   ]
  },
  {
   "cell_type": "code",
   "execution_count": 10,
   "id": "c358b31d",
   "metadata": {},
   "outputs": [
    {
     "data": {
      "text/plain": [
       "0"
      ]
     },
     "execution_count": 10,
     "metadata": {},
     "output_type": "execute_result"
    }
   ],
   "source": [
    "check(best_model,8,250)"
   ]
  },
  {
   "cell_type": "markdown",
   "id": "491ebbb1",
   "metadata": {},
   "source": [
    "#### Find Distance to the Decision Boundary from Data Point"
   ]
  },
  {
   "cell_type": "code",
   "execution_count": 11,
   "id": "5fb3b4a5",
   "metadata": {},
   "outputs": [],
   "source": [
    "import math\n",
    "# x0 is lsm value , y0 is platelet value\n",
    "def distance(a,b,c,x0,y0):\n",
    "    result = (a*x0+b*y0+c)/math.sqrt(a*a+b*b)\n",
    "    return result[0]"
   ]
  },
  {
   "cell_type": "code",
   "execution_count": 12,
   "id": "15a0d09d",
   "metadata": {},
   "outputs": [
    {
     "data": {
      "text/plain": [
       "-1.0181350340475275"
      ]
     },
     "execution_count": 12,
     "metadata": {},
     "output_type": "execute_result"
    }
   ],
   "source": [
    "distance(best_model.coef_[0][0], best_model.coef_[0][1] , best_model.intercept_, 8,250)"
   ]
  },
  {
   "cell_type": "code",
   "execution_count": null,
   "id": "944ad15c",
   "metadata": {},
   "outputs": [],
   "source": []
  }
 ],
 "metadata": {
  "kernelspec": {
   "display_name": "Python 3 (ipykernel)",
   "language": "python",
   "name": "python3"
  },
  "language_info": {
   "codemirror_mode": {
    "name": "ipython",
    "version": 3
   },
   "file_extension": ".py",
   "mimetype": "text/x-python",
   "name": "python",
   "nbconvert_exporter": "python",
   "pygments_lexer": "ipython3",
   "version": "3.7.13"
  }
 },
 "nbformat": 4,
 "nbformat_minor": 5
}
